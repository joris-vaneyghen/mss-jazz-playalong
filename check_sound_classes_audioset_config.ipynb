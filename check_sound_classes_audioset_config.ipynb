{
  "nbformat": 4,
  "nbformat_minor": 0,
  "metadata": {
    "colab": {
      "provenance": [],
      "authorship_tag": "ABX9TyO4gvYK6lz1UzMC1uhp7ZVP",
      "include_colab_link": true
    },
    "kernelspec": {
      "name": "python3",
      "display_name": "Python 3"
    },
    "language_info": {
      "name": "python"
    }
  },
  "cells": [
    {
      "cell_type": "markdown",
      "metadata": {
        "id": "view-in-github",
        "colab_type": "text"
      },
      "source": [
        "<a href=\"https://colab.research.google.com/github/joris-vaneyghen/mss-jazz-playalong/blob/main/check_sound_classes_audioset_config.ipynb\" target=\"_parent\"><img src=\"https://colab.research.google.com/assets/colab-badge.svg\" alt=\"Open In Colab\"/></a>"
      ]
    },
    {
      "cell_type": "code",
      "execution_count": 1,
      "metadata": {
        "colab": {
          "base_uri": "https://localhost:8080/"
        },
        "id": "_OWt3nxBXR60",
        "outputId": "4455c266-7e84-4ed6-8c69-153922542ba5"
      },
      "outputs": [
        {
          "output_type": "stream",
          "name": "stdout",
          "text": [
            "Cloning into 'mss-jazz-playalong'...\n",
            "remote: Enumerating objects: 163, done.\u001b[K\n",
            "remote: Counting objects: 100% (163/163), done.\u001b[K\n",
            "remote: Compressing objects: 100% (152/152), done.\u001b[K\n",
            "remote: Total 163 (delta 84), reused 10 (delta 4), pack-reused 0 (from 0)\u001b[K\n",
            "Receiving objects: 100% (163/163), 40.65 MiB | 8.57 MiB/s, done.\n",
            "Resolving deltas: 100% (84/84), done.\n",
            "Updating files: 100% (22/22), done.\n",
            "Cloning into 'EfficientAT'...\n",
            "remote: Enumerating objects: 385, done.\u001b[K\n",
            "remote: Counting objects: 100% (146/146), done.\u001b[K\n",
            "remote: Compressing objects: 100% (32/32), done.\u001b[K\n",
            "remote: Total 385 (delta 130), reused 114 (delta 114), pack-reused 239 (from 1)\u001b[K\n",
            "Receiving objects: 100% (385/385), 2.64 MiB | 5.66 MiB/s, done.\n",
            "Resolving deltas: 100% (237/237), done.\n"
          ]
        }
      ],
      "source": [
        "!git clone https://github.com/joris-vaneyghen/mss-jazz-playalong.git\n",
        "# dowload our audio tagger\n",
        "!git clone https://github.com/fschmid56/EfficientAT"
      ]
    },
    {
      "cell_type": "code",
      "source": [
        "#load csv file EfficientAT/metadata/class_labels_indices.csv\n",
        "\n",
        "import pandas as pd\n",
        "\n",
        "df = pd.read_csv('EfficientAT/metadata/class_labels_indices.csv')\n",
        "print(df)\n"
      ],
      "metadata": {
        "colab": {
          "base_uri": "https://localhost:8080/"
        },
        "id": "Piybq9IeXjHd",
        "outputId": "5421d25d-798d-485c-e5d2-c53292a436f4"
      },
      "execution_count": 2,
      "outputs": [
        {
          "output_type": "stream",
          "name": "stdout",
          "text": [
            "     index         mid                   display_name\n",
            "0        0    /m/09x0r                         Speech\n",
            "1        1   /m/05zppz      Male speech, man speaking\n",
            "2        2    /m/02zsn  Female speech, woman speaking\n",
            "3        3    /m/0ytgt     Child speech, kid speaking\n",
            "4        4   /m/01h8n0                   Conversation\n",
            "..     ...         ...                            ...\n",
            "522    522  /m/07p_0gm                      Throbbing\n",
            "523    523   /m/01jwx6                      Vibration\n",
            "524    524    /m/07c52                     Television\n",
            "525    525    /m/06bz3                          Radio\n",
            "526    526   /m/07hvw1                Field recording\n",
            "\n",
            "[527 rows x 3 columns]\n"
          ]
        }
      ]
    },
    {
      "cell_type": "code",
      "source": [
        "#read json file mss-jazz-playalong/sound_classes_audioset.json\n",
        "\n",
        "import json\n",
        "\n",
        "with open('mss-jazz-playalong/sound_classes_audioset.json', 'r') as f:\n",
        "  json_data = json.load(f)\n",
        "\n",
        "print(json_data)\n"
      ],
      "metadata": {
        "colab": {
          "base_uri": "https://localhost:8080/"
        },
        "id": "xqAPDZoDXuwu",
        "outputId": "d6db2313-1a79-470b-f5b8-a29f70b99d0c"
      },
      "execution_count": 3,
      "outputs": [
        {
          "output_type": "stream",
          "name": "stdout",
          "text": [
            "{'drums': [{'index': 161, 'mid': '/m/0l14md', 'display_name': 'Percussion'}, {'index': 162, 'mid': '/m/02hnl', 'display_name': 'Drum kit'}, {'index': 163, 'mid': '/m/0cfdd', 'display_name': 'Drum machine'}, {'index': 164, 'mid': '/m/026t6', 'display_name': 'Drum'}, {'index': 165, 'mid': '/m/06rvn', 'display_name': 'Snare drum'}, {'index': 166, 'mid': '/m/03t3fj', 'display_name': 'Rimshot'}, {'index': 167, 'mid': '/m/02k_mr', 'display_name': 'Drum roll'}, {'index': 168, 'mid': '/m/0bm02', 'display_name': 'Bass drum'}, {'index': 169, 'mid': '/m/011k_j', 'display_name': 'Timpani'}, {'index': 170, 'mid': '/m/01p970', 'display_name': 'Tabla'}, {'index': 171, 'mid': '/m/01qbl', 'display_name': 'Cymbal'}, {'index': 172, 'mid': '/m/03qtq', 'display_name': 'Hi-hat'}, {'index': 173, 'mid': '/m/01sm1g', 'display_name': 'Wood block'}, {'index': 174, 'mid': '/m/07brj', 'display_name': 'Tambourine'}, {'index': 175, 'mid': '/m/05r5wn', 'display_name': 'Rattle (instrument)'}, {'index': 176, 'mid': '/m/0xzly', 'display_name': 'Maraca'}, {'index': 177, 'mid': '/m/0mbct', 'display_name': 'Gong'}, {'index': 61, 'mid': '/m/0k65p', 'display_name': 'Hands'}, {'index': 62, 'mid': '/m/025_jnm', 'display_name': 'Finger snapping'}, {'index': 63, 'mid': '/m/0l15bq', 'display_name': 'Clapping'}], 'bass': [{'index': 142, 'mid': '/m/018vs', 'display_name': 'Bass guitar'}, {'index': 194, 'mid': '/m/02fsn', 'display_name': 'Double bass'}], 'piano': [{'index': 153, 'mid': '/m/05r5c', 'display_name': 'Piano'}, {'index': 154, 'mid': '/m/01s0ps', 'display_name': 'Electric piano'}], 'guitar': [{'index': 139, 'mid': '/m/0fx80y', 'display_name': 'Plucked string instrument'}, {'index': 140, 'mid': '/m/0342h', 'display_name': 'Guitar'}, {'index': 141, 'mid': '/m/02sgy', 'display_name': 'Electric guitar'}, {'index': 143, 'mid': '/m/042v_gx', 'display_name': 'Acoustic guitar'}, {'index': 144, 'mid': '/m/06w87', 'display_name': 'Steel guitar, slide guitar'}, {'index': 145, 'mid': '/m/01glhc', 'display_name': 'Tapping (guitar technique)'}, {'index': 146, 'mid': '/m/07s0s5r', 'display_name': 'Strum'}, {'index': 147, 'mid': '/m/018j2', 'display_name': 'Banjo'}, {'index': 148, 'mid': '/m/0jtg0', 'display_name': 'Sitar'}, {'index': 149, 'mid': '/m/04rzd', 'display_name': 'Mandolin'}, {'index': 150, 'mid': '/m/01bns_', 'display_name': 'Zither'}, {'index': 151, 'mid': '/m/07xzm', 'display_name': 'Ukulele'}], 'wind_instrument': [{'index': 185, 'mid': '/m/01kcd', 'display_name': 'Brass instrument'}, {'index': 186, 'mid': '/m/0319l', 'display_name': 'French horn'}, {'index': 187, 'mid': '/m/07gql', 'display_name': 'Trumpet'}, {'index': 188, 'mid': '/m/07c6l', 'display_name': 'Trombone'}, {'index': 195, 'mid': '/m/085jw', 'display_name': 'Wind instrument, woodwind instrument'}, {'index': 196, 'mid': '/m/0l14j_', 'display_name': 'Flute'}, {'index': 197, 'mid': '/m/06ncr', 'display_name': 'Saxophone'}, {'index': 198, 'mid': '/m/01wy6', 'display_name': 'Clarinet'}, {'index': 40, 'mid': '/m/01w250', 'display_name': 'Whistling'}], 'string_instrument': [{'index': 189, 'mid': '/m/0l14_3', 'display_name': 'Bowed string instrument'}, {'index': 190, 'mid': '/m/02qmj0d', 'display_name': 'String section'}, {'index': 191, 'mid': '/m/07y_7', 'display_name': 'Violin, fiddle'}, {'index': 192, 'mid': '/m/0d8_n', 'display_name': 'Pizzicato'}, {'index': 193, 'mid': '/m/01xqw', 'display_name': 'Cello'}], 'other_instruments': [{'index': 152, 'mid': '/m/05148p4', 'display_name': 'Keyboard (musical)'}, {'index': 155, 'mid': '/m/013y1f', 'display_name': 'Organ'}, {'index': 156, 'mid': '/m/03xq_f', 'display_name': 'Electronic organ'}, {'index': 157, 'mid': '/m/03gvt', 'display_name': 'Hammond organ'}, {'index': 158, 'mid': '/m/0l14qv', 'display_name': 'Synthesizer'}, {'index': 159, 'mid': '/m/01v1d8', 'display_name': 'Sampler'}, {'index': 160, 'mid': '/m/03q5t', 'display_name': 'Harpsichord'}, {'index': 178, 'mid': '/m/016622', 'display_name': 'Tubular bells'}, {'index': 179, 'mid': '/m/0j45pbj', 'display_name': 'Mallet percussion'}, {'index': 180, 'mid': '/m/0dwsp', 'display_name': 'Marimba, xylophone'}, {'index': 181, 'mid': '/m/0dwtp', 'display_name': 'Glockenspiel'}, {'index': 182, 'mid': '/m/0dwt5', 'display_name': 'Vibraphone'}, {'index': 183, 'mid': '/m/0l156b', 'display_name': 'Steelpan'}, {'index': 184, 'mid': '/m/05pd6', 'display_name': 'Orchestra'}, {'index': 199, 'mid': '/m/03m5k', 'display_name': 'Harp'}, {'index': 200, 'mid': '/m/0395lw', 'display_name': 'Bell'}, {'index': 201, 'mid': '/m/03w41f', 'display_name': 'Church bell'}, {'index': 202, 'mid': '/m/027m70_', 'display_name': 'Jingle bell'}, {'index': 203, 'mid': '/m/0gy1t2s', 'display_name': 'Bicycle bell'}, {'index': 204, 'mid': '/m/07n_g', 'display_name': 'Tuning fork'}, {'index': 205, 'mid': '/m/0f8s22', 'display_name': 'Chime'}, {'index': 206, 'mid': '/m/026fgl', 'display_name': 'Wind chime'}, {'index': 207, 'mid': '/m/0150b9', 'display_name': 'Change ringing (campanology)'}, {'index': 208, 'mid': '/m/03qjg', 'display_name': 'Harmonica'}, {'index': 209, 'mid': '/m/0mkg', 'display_name': 'Accordion'}, {'index': 210, 'mid': '/m/0192l', 'display_name': 'Bagpipes'}, {'index': 211, 'mid': '/m/02bxd', 'display_name': 'Didgeridoo'}, {'index': 212, 'mid': '/m/0l14l2', 'display_name': 'Shofar'}, {'index': 213, 'mid': '/m/07kc_', 'display_name': 'Theremin'}, {'index': 214, 'mid': '/m/0l14t7', 'display_name': 'Singing bowl'}, {'index': 215, 'mid': '/m/01hgjl', 'display_name': 'Scratching (performance technique)'}], 'voice': [{'index': 7, 'mid': '/m/0brhx', 'display_name': 'Speech synthesizer'}, {'index': 27, 'mid': '/m/015lz1', 'display_name': 'Singing'}, {'index': 28, 'mid': '/m/0l14jd', 'display_name': 'Choir'}, {'index': 29, 'mid': '/m/01swy6', 'display_name': 'Yodeling'}, {'index': 30, 'mid': '/m/02bk07', 'display_name': 'Chant'}, {'index': 31, 'mid': '/m/01c194', 'display_name': 'Mantra'}, {'index': 32, 'mid': '/t/dd00003', 'display_name': 'Male singing'}, {'index': 33, 'mid': '/t/dd00004', 'display_name': 'Female singing'}, {'index': 34, 'mid': '/t/dd00005', 'display_name': 'Child singing'}, {'index': 35, 'mid': '/t/dd00006', 'display_name': 'Synthetic singing'}, {'index': 36, 'mid': '/m/06bxc', 'display_name': 'Rapping'}, {'index': 37, 'mid': '/m/02fxyj', 'display_name': 'Humming'}, {'index': 38, 'mid': '/m/07s2xch', 'display_name': 'Groan'}, {'index': 39, 'mid': '/m/07r4k75', 'display_name': 'Grunt'}], 'speech': [{'index': 0, 'mid': '/m/09x0r', 'display_name': 'Speech'}, {'index': 1, 'mid': '/m/05zppz', 'display_name': 'Male speech, man speaking'}, {'index': 2, 'mid': '/m/02zsn', 'display_name': 'Female speech, woman speaking'}, {'index': 3, 'mid': '/m/0ytgt', 'display_name': 'Child speech, kid speaking'}, {'index': 4, 'mid': '/m/01h8n0', 'display_name': 'Conversation'}, {'index': 5, 'mid': '/m/02qldy', 'display_name': 'Narration, monologue'}, {'index': 6, 'mid': '/m/0261r1', 'display_name': 'Babbling'}], 'audience': [{'index': 47, 'mid': '/m/01b_21', 'display_name': 'Cough'}, {'index': 48, 'mid': '/m/0dl9sf8', 'display_name': 'Throat clearing'}, {'index': 49, 'mid': '/m/01hsr_', 'display_name': 'Sneeze'}, {'index': 50, 'mid': '/m/07ppn3j', 'display_name': 'Sniff'}, {'index': 51, 'mid': '/m/06h7j', 'display_name': 'Run'}, {'index': 52, 'mid': '/m/07qv_x_', 'display_name': 'Shuffle'}, {'index': 53, 'mid': '/m/07pbtc8', 'display_name': 'Walk, footsteps'}, {'index': 66, 'mid': '/m/053hz1', 'display_name': 'Cheering'}, {'index': 67, 'mid': '/m/028ght', 'display_name': 'Applause'}, {'index': 68, 'mid': '/m/07rkbfh', 'display_name': 'Chatter'}, {'index': 69, 'mid': '/m/03qtwd', 'display_name': 'Crowd'}, {'index': 70, 'mid': '/m/07qfr4h', 'display_name': 'Hubbub, speech noise, speech babble'}, {'index': 71, 'mid': '/t/dd00013', 'display_name': 'Children playing'}, {'index': 513, 'mid': '/m/096m7z', 'display_name': 'Noise'}, {'index': 514, 'mid': '/m/06_y0by', 'display_name': 'Environmental noise'}, {'index': 520, 'mid': '/m/0chx_', 'display_name': 'White noise'}, {'index': 521, 'mid': '/m/0cj0r', 'display_name': 'Pink noise'}]}\n"
          ]
        }
      ]
    },
    {
      "cell_type": "code",
      "source": [
        "# loop items in json and lookup row in df and compare mid value and display_name\n",
        "\n",
        "for audio_class in json_data:\n",
        "  for item in json_data[audio_class]:\n",
        "    index = item['index']\n",
        "    mid = item['mid']\n",
        "    display_name = item['display_name']\n",
        "\n",
        "    # Lookup row in df based on index\n",
        "    row = df[df['index'] == index]\n",
        "\n",
        "    if not row.empty:\n",
        "      # Compare mid and display_name values\n",
        "      if row['mid'].iloc[0] == mid and row['display_name'].iloc[0] == display_name:\n",
        "        print(f\"Match found for index {index}: mid = {mid}, display_name = {display_name}\")\n",
        "      else:\n",
        "        print(f\"Mismatch for index {index}:\")\n",
        "        print(f\"  JSON: mid = {mid}, display_name = {display_name}\")\n",
        "        print(f\"  CSV: mid = {row['mid'].iloc[0]}, display_name = {row['display_name'].iloc[0]}\")\n",
        "    else:\n",
        "      print(f\"No matching row found for index {index}\")\n"
      ],
      "metadata": {
        "colab": {
          "base_uri": "https://localhost:8080/"
        },
        "id": "s03kK8V5ceVV",
        "outputId": "f058e851-22d7-476a-c041-eb6ee4974854"
      },
      "execution_count": 18,
      "outputs": [
        {
          "output_type": "stream",
          "name": "stdout",
          "text": [
            "Match found for index 161: mid = /m/0l14md, display_name = Percussion\n",
            "Match found for index 162: mid = /m/02hnl, display_name = Drum kit\n",
            "Match found for index 163: mid = /m/0cfdd, display_name = Drum machine\n",
            "Match found for index 164: mid = /m/026t6, display_name = Drum\n",
            "Match found for index 165: mid = /m/06rvn, display_name = Snare drum\n",
            "Match found for index 166: mid = /m/03t3fj, display_name = Rimshot\n",
            "Match found for index 167: mid = /m/02k_mr, display_name = Drum roll\n",
            "Match found for index 168: mid = /m/0bm02, display_name = Bass drum\n",
            "Match found for index 169: mid = /m/011k_j, display_name = Timpani\n",
            "Match found for index 170: mid = /m/01p970, display_name = Tabla\n",
            "Match found for index 171: mid = /m/01qbl, display_name = Cymbal\n",
            "Match found for index 172: mid = /m/03qtq, display_name = Hi-hat\n",
            "Match found for index 173: mid = /m/01sm1g, display_name = Wood block\n",
            "Match found for index 174: mid = /m/07brj, display_name = Tambourine\n",
            "Match found for index 175: mid = /m/05r5wn, display_name = Rattle (instrument)\n",
            "Match found for index 176: mid = /m/0xzly, display_name = Maraca\n",
            "Match found for index 177: mid = /m/0mbct, display_name = Gong\n",
            "Match found for index 61: mid = /m/0k65p, display_name = Hands\n",
            "Match found for index 62: mid = /m/025_jnm, display_name = Finger snapping\n",
            "Match found for index 63: mid = /m/0l15bq, display_name = Clapping\n",
            "Match found for index 142: mid = /m/018vs, display_name = Bass guitar\n",
            "Match found for index 194: mid = /m/02fsn, display_name = Double bass\n",
            "Match found for index 153: mid = /m/05r5c, display_name = Piano\n",
            "Match found for index 154: mid = /m/01s0ps, display_name = Electric piano\n",
            "Match found for index 139: mid = /m/0fx80y, display_name = Plucked string instrument\n",
            "Match found for index 140: mid = /m/0342h, display_name = Guitar\n",
            "Match found for index 141: mid = /m/02sgy, display_name = Electric guitar\n",
            "Match found for index 143: mid = /m/042v_gx, display_name = Acoustic guitar\n",
            "Match found for index 144: mid = /m/06w87, display_name = Steel guitar, slide guitar\n",
            "Match found for index 145: mid = /m/01glhc, display_name = Tapping (guitar technique)\n",
            "Match found for index 146: mid = /m/07s0s5r, display_name = Strum\n",
            "Match found for index 147: mid = /m/018j2, display_name = Banjo\n",
            "Match found for index 148: mid = /m/0jtg0, display_name = Sitar\n",
            "Match found for index 149: mid = /m/04rzd, display_name = Mandolin\n",
            "Match found for index 150: mid = /m/01bns_, display_name = Zither\n",
            "Match found for index 151: mid = /m/07xzm, display_name = Ukulele\n",
            "Match found for index 185: mid = /m/01kcd, display_name = Brass instrument\n",
            "Match found for index 186: mid = /m/0319l, display_name = French horn\n",
            "Match found for index 187: mid = /m/07gql, display_name = Trumpet\n",
            "Match found for index 188: mid = /m/07c6l, display_name = Trombone\n",
            "Match found for index 195: mid = /m/085jw, display_name = Wind instrument, woodwind instrument\n",
            "Match found for index 196: mid = /m/0l14j_, display_name = Flute\n",
            "Match found for index 197: mid = /m/06ncr, display_name = Saxophone\n",
            "Match found for index 198: mid = /m/01wy6, display_name = Clarinet\n",
            "Match found for index 40: mid = /m/01w250, display_name = Whistling\n",
            "Match found for index 189: mid = /m/0l14_3, display_name = Bowed string instrument\n",
            "Match found for index 190: mid = /m/02qmj0d, display_name = String section\n",
            "Match found for index 191: mid = /m/07y_7, display_name = Violin, fiddle\n",
            "Match found for index 192: mid = /m/0d8_n, display_name = Pizzicato\n",
            "Match found for index 193: mid = /m/01xqw, display_name = Cello\n",
            "Match found for index 152: mid = /m/05148p4, display_name = Keyboard (musical)\n",
            "Match found for index 155: mid = /m/013y1f, display_name = Organ\n",
            "Match found for index 156: mid = /m/03xq_f, display_name = Electronic organ\n",
            "Match found for index 157: mid = /m/03gvt, display_name = Hammond organ\n",
            "Match found for index 158: mid = /m/0l14qv, display_name = Synthesizer\n",
            "Match found for index 159: mid = /m/01v1d8, display_name = Sampler\n",
            "Match found for index 160: mid = /m/03q5t, display_name = Harpsichord\n",
            "Match found for index 178: mid = /m/016622, display_name = Tubular bells\n",
            "Match found for index 179: mid = /m/0j45pbj, display_name = Mallet percussion\n",
            "Match found for index 180: mid = /m/0dwsp, display_name = Marimba, xylophone\n",
            "Match found for index 181: mid = /m/0dwtp, display_name = Glockenspiel\n",
            "Match found for index 182: mid = /m/0dwt5, display_name = Vibraphone\n",
            "Match found for index 183: mid = /m/0l156b, display_name = Steelpan\n",
            "Match found for index 184: mid = /m/05pd6, display_name = Orchestra\n",
            "Match found for index 199: mid = /m/03m5k, display_name = Harp\n",
            "Match found for index 200: mid = /m/0395lw, display_name = Bell\n",
            "Match found for index 201: mid = /m/03w41f, display_name = Church bell\n",
            "Match found for index 202: mid = /m/027m70_, display_name = Jingle bell\n",
            "Match found for index 203: mid = /m/0gy1t2s, display_name = Bicycle bell\n",
            "Match found for index 204: mid = /m/07n_g, display_name = Tuning fork\n",
            "Match found for index 205: mid = /m/0f8s22, display_name = Chime\n",
            "Match found for index 206: mid = /m/026fgl, display_name = Wind chime\n",
            "Match found for index 207: mid = /m/0150b9, display_name = Change ringing (campanology)\n",
            "Match found for index 208: mid = /m/03qjg, display_name = Harmonica\n",
            "Match found for index 209: mid = /m/0mkg, display_name = Accordion\n",
            "Match found for index 210: mid = /m/0192l, display_name = Bagpipes\n",
            "Match found for index 211: mid = /m/02bxd, display_name = Didgeridoo\n",
            "Match found for index 212: mid = /m/0l14l2, display_name = Shofar\n",
            "Match found for index 213: mid = /m/07kc_, display_name = Theremin\n",
            "Match found for index 214: mid = /m/0l14t7, display_name = Singing bowl\n",
            "Match found for index 215: mid = /m/01hgjl, display_name = Scratching (performance technique)\n",
            "Match found for index 7: mid = /m/0brhx, display_name = Speech synthesizer\n",
            "Match found for index 27: mid = /m/015lz1, display_name = Singing\n",
            "Match found for index 28: mid = /m/0l14jd, display_name = Choir\n",
            "Match found for index 29: mid = /m/01swy6, display_name = Yodeling\n",
            "Match found for index 30: mid = /m/02bk07, display_name = Chant\n",
            "Match found for index 31: mid = /m/01c194, display_name = Mantra\n",
            "Match found for index 32: mid = /t/dd00003, display_name = Male singing\n",
            "Match found for index 33: mid = /t/dd00004, display_name = Female singing\n",
            "Match found for index 34: mid = /t/dd00005, display_name = Child singing\n",
            "Match found for index 35: mid = /t/dd00006, display_name = Synthetic singing\n",
            "Match found for index 36: mid = /m/06bxc, display_name = Rapping\n",
            "Match found for index 37: mid = /m/02fxyj, display_name = Humming\n",
            "Match found for index 38: mid = /m/07s2xch, display_name = Groan\n",
            "Match found for index 39: mid = /m/07r4k75, display_name = Grunt\n",
            "Match found for index 0: mid = /m/09x0r, display_name = Speech\n",
            "Match found for index 1: mid = /m/05zppz, display_name = Male speech, man speaking\n",
            "Match found for index 2: mid = /m/02zsn, display_name = Female speech, woman speaking\n",
            "Match found for index 3: mid = /m/0ytgt, display_name = Child speech, kid speaking\n",
            "Match found for index 4: mid = /m/01h8n0, display_name = Conversation\n",
            "Match found for index 5: mid = /m/02qldy, display_name = Narration, monologue\n",
            "Match found for index 6: mid = /m/0261r1, display_name = Babbling\n",
            "Match found for index 47: mid = /m/01b_21, display_name = Cough\n",
            "Match found for index 48: mid = /m/0dl9sf8, display_name = Throat clearing\n",
            "Match found for index 49: mid = /m/01hsr_, display_name = Sneeze\n",
            "Match found for index 50: mid = /m/07ppn3j, display_name = Sniff\n",
            "Match found for index 51: mid = /m/06h7j, display_name = Run\n",
            "Match found for index 52: mid = /m/07qv_x_, display_name = Shuffle\n",
            "Match found for index 53: mid = /m/07pbtc8, display_name = Walk, footsteps\n",
            "Match found for index 66: mid = /m/053hz1, display_name = Cheering\n",
            "Match found for index 67: mid = /m/028ght, display_name = Applause\n",
            "Match found for index 68: mid = /m/07rkbfh, display_name = Chatter\n",
            "Match found for index 69: mid = /m/03qtwd, display_name = Crowd\n",
            "Match found for index 70: mid = /m/07qfr4h, display_name = Hubbub, speech noise, speech babble\n",
            "Match found for index 71: mid = /t/dd00013, display_name = Children playing\n",
            "Match found for index 513: mid = /m/096m7z, display_name = Noise\n",
            "Match found for index 514: mid = /m/06_y0by, display_name = Environmental noise\n",
            "Match found for index 520: mid = /m/0chx_, display_name = White noise\n",
            "Match found for index 521: mid = /m/0cj0r, display_name = Pink noise\n"
          ]
        }
      ]
    }
  ]
}