{
  "nbformat": 4,
  "nbformat_minor": 0,
  "metadata": {
    "colab": {
      "provenance": [],
      "gpuType": "T4",
      "authorship_tag": "ABX9TyN/TYzfIa2HcTZuSFxO60r2",
      "include_colab_link": true
    },
    "kernelspec": {
      "name": "python3",
      "display_name": "Python 3"
    },
    "language_info": {
      "name": "python"
    },
    "accelerator": "GPU"
  },
  "cells": [
    {
      "cell_type": "markdown",
      "metadata": {
        "id": "view-in-github",
        "colab_type": "text"
      },
      "source": [
        "<a href=\"https://colab.research.google.com/github/joris-vaneyghen/mss-jazz-playalong/blob/main/segmentation/demucs.ipynb\" target=\"_parent\"><img src=\"https://colab.research.google.com/assets/colab-badge.svg\" alt=\"Open In Colab\"/></a>"
      ]
    },
    {
      "cell_type": "code",
      "execution_count": null,
      "metadata": {
        "id": "X64zOKVQ6LwP"
      },
      "outputs": [],
      "source": [
        "!pip install git+https://github.com/facebookresearch/demucs -q\n",
        "!git clone https://github.com/joris-vaneyghen/mss-jazz-playalong.git -q"
      ]
    },
    {
      "cell_type": "code",
      "source": [
        "#CONFIG\n",
        "input_path = 'mss-jazz-playalong/examples'\n",
        "output_path = 'output'\n",
        "model_name = 'htdemucs_ft'\n",
        "resolution = 0.32 #seconds same as resolution of EfficientAT model"
      ],
      "metadata": {
        "id": "mxfsemzq6ktt"
      },
      "execution_count": null,
      "outputs": []
    },
    {
      "cell_type": "code",
      "source": [
        "import torch\n",
        "import demucs.api\n",
        "import json\n",
        "import os\n",
        "import torchaudio\n",
        "import numpy as np"
      ],
      "metadata": {
        "id": "Cf8YYwfm718q"
      },
      "execution_count": null,
      "outputs": []
    },
    {
      "cell_type": "code",
      "source": [
        "def load_json(dir, mp3_file):\n",
        "    # Replace .mp3 extension with .json\n",
        "    json_file_name = mp3_file.replace('.mp3', '.json')\n",
        "    file_path = os.path.join(dir, json_file_name)\n",
        "\n",
        "    # Check if the .json file exists\n",
        "    if not os.path.exists(file_path):\n",
        "        return {}  # Return an empty dictionary if the .json file doesn't exist\n",
        "\n",
        "    # Load the JSON file if it exists\n",
        "    with open(file_path, 'r') as file:\n",
        "        return json.load(file)\n",
        "\n",
        "def save_json(dir, mp3_file, data):\n",
        "    # Replace .mp3 extension with .json\n",
        "    json_file_name = mp3_file.replace('.mp3', '.json')\n",
        "    file_path = os.path.join(dir, json_file_name)\n",
        "\n",
        "    # Check if directory exists, create it if not\n",
        "    if not os.path.exists(dir):\n",
        "        os.makedirs(dir)\n",
        "\n",
        "    # Save the data to the .json file\n",
        "    with open(file_path, 'w') as file:\n",
        "        json.dump(data, file, indent=4)\n",
        "\n",
        "def iterate_files(dir):\n",
        "    for file_name in os.listdir(dir):\n",
        "        if file_name.endswith('.mp3'):\n",
        "            yield file_name\n",
        "\n",
        "def load_separator():\n",
        "  separator = demucs.api.Separator(model=model_name)\n",
        "  device = torch.device(\"cuda\" if torch.cuda.is_available() else \"cpu\")\n",
        "  separator.update_parameter(device=device)\n",
        "  separator.update_parameter(progress=True)\n",
        "  return separator\n",
        "\n",
        "def calculate_demucs(separator, dir, mp3_file):\n",
        "  # Load waveform and handle resampling\n",
        "  waveform, sample_rate = torchaudio.load(os.path.join(dir, mp3_file))\n",
        "  if sample_rate != separator.samplerate:\n",
        "      waveform = torchaudio.functional.resample(waveform, sample_rate, model.samplerate)\n",
        "\n",
        "  # Determine the number of samples per segment\n",
        "  chunk_size = int(separator.samplerate * resolution)\n",
        "  max_samples_per_segment = chunk_size * max_chunks\n",
        "\n",
        "  # Initialize list to store output segments\n",
        "  output_segments = {'drums':[],'bass':[],'vocals':[],'other':[]}\n",
        "\n",
        "  # Process each segment of the waveform separately\n",
        "  num_samples = waveform.shape[1]\n",
        "  for start in range(0, num_samples, max_samples_per_segment):\n",
        "    end = min(start + max_samples_per_segment, num_samples)\n",
        "    segment = waveform[:, start:end]\n",
        "\n",
        "    _, seperated = separator.separate_tensor(segment)\n",
        "\n",
        "    for key in seperated.keys():\n",
        "      out = seperated[key]\n",
        "      # Average over left/right channels\n",
        "      out = out.mean(dim=0)\n",
        "      # Reshape the tensor into chunks\n",
        "      out_reshaped = out.unfold(dimension=0, size=chunk_size, step=chunk_size)\n",
        "      # Calculate the mean along the time dimension for each chunk\n",
        "      out_reduced = out_reshaped.abs().mean(dim=1)\n",
        "      output_segments[key].extend(out_reduced.numpy().tolist())\n",
        "\n",
        "  return output_segments"
      ],
      "metadata": {
        "id": "qn3LHYuVJk5E"
      },
      "execution_count": null,
      "outputs": []
    },
    {
      "cell_type": "code",
      "source": [
        "separator = load_separator()\n",
        "\n",
        "for mp3_file in iterate_files(input_path):\n",
        "  data = load_json(output_path, mp3_file)\n",
        "  if ('demucs' not in data.keys()):\n",
        "    print(mp3_file)\n",
        "    data['demucs'] = calculate_demucs(separator, input_path, mp3_file)\n",
        "    save_json(output_path, mp3_file, data)"
      ],
      "metadata": {
        "id": "ib2gsV0ZplNb"
      },
      "execution_count": null,
      "outputs": []
    }
  ]
}