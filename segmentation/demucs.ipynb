{
  "nbformat": 4,
  "nbformat_minor": 0,
  "metadata": {
    "colab": {
      "provenance": [],
      "authorship_tag": "ABX9TyMFjU3+3OT4f9VVAmyINz0R",
      "include_colab_link": true
    },
    "kernelspec": {
      "name": "python3",
      "display_name": "Python 3"
    },
    "language_info": {
      "name": "python"
    }
  },
  "cells": [
    {
      "cell_type": "markdown",
      "metadata": {
        "id": "view-in-github",
        "colab_type": "text"
      },
      "source": [
        "<a href=\"https://colab.research.google.com/github/joris-vaneyghen/mss-jazz-playalong/blob/main/segmentation/demucs.ipynb\" target=\"_parent\"><img src=\"https://colab.research.google.com/assets/colab-badge.svg\" alt=\"Open In Colab\"/></a>"
      ]
    },
    {
      "cell_type": "code",
      "execution_count": null,
      "metadata": {
        "id": "X64zOKVQ6LwP"
      },
      "outputs": [],
      "source": [
        "!pip install demucs -q\n",
        "!git clone https://github.com/joris-vaneyghen/mss-jazz-playalong.git -q"
      ]
    },
    {
      "cell_type": "code",
      "source": [],
      "metadata": {
        "id": "QH22dy4l6wUR"
      },
      "execution_count": null,
      "outputs": []
    },
    {
      "cell_type": "code",
      "source": [
        "#Configuration\n",
        "input_path = 'mss-jazz-playalong/examples'\n",
        "output_path = 'output'\n",
        "model_name = 'htdemucs_ft'\n",
        "resolution = 0.32 #seconds same as resolution of EfficientAT model"
      ],
      "metadata": {
        "id": "mxfsemzq6ktt"
      },
      "execution_count": null,
      "outputs": []
    },
    {
      "cell_type": "code",
      "source": [
        "import torch\n",
        "from demucs.apply import apply_model\n",
        "from demucs import pretrained\n",
        "\n",
        "model = pretrained.get_model(model_name)"
      ],
      "metadata": {
        "id": "Cf8YYwfm718q"
      },
      "execution_count": null,
      "outputs": []
    },
    {
      "cell_type": "code",
      "source": [
        "device = torch.device(\"cuda\" if torch.cuda.is_available() else \"cpu\")\n",
        "x = torch.randn(1, 2, 44100 * 10)  # ten seconds of white noise for the demo\n",
        "model.to(device)\n"
      ],
      "metadata": {
        "id": "CqiA7bwG8BrW"
      },
      "execution_count": null,
      "outputs": []
    },
    {
      "cell_type": "code",
      "source": [
        "mp3_path = 'mss-jazz-playalong/examples/Sweet Dreams_Single Ladies.mp3'"
      ],
      "metadata": {
        "id": "mnUKpM3OJIka"
      },
      "execution_count": 50,
      "outputs": []
    },
    {
      "cell_type": "code",
      "source": [
        "import torchaudio\n",
        "\n",
        "waveform, sample_rate = torchaudio.load(mp3_path)\n",
        "if sample_rate != model.samplerate:\n",
        "  waveform = torchaudio.functional.resample(waveform, sample_rate, model.samplerate)\n",
        "waveform = waveform.to(device)\n",
        "out = apply_model(model, waveform.unsqueeze(0), progress=True, device=device)\n",
        "#remove batch dim and average over Left/Right Channel\n",
        "out = out.squeeze(0).mean(dim=1)"
      ],
      "metadata": {
        "colab": {
          "base_uri": "https://localhost:8080/"
        },
        "id": "8WPN5JpUJQNB",
        "outputId": "6c18a4c4-8bdf-43b5-d37e-28feb7b62e93"
      },
      "execution_count": 54,
      "outputs": [
        {
          "output_type": "stream",
          "name": "stderr",
          "text": [
            "100%|██████████████████████████████████████████████| 163.79999999999998/163.79999999999998 [06:46<00:00,  2.48s/seconds]\n",
            "100%|██████████████████████████████████████████████| 163.79999999999998/163.79999999999998 [06:12<00:00,  2.27s/seconds]\n",
            "100%|██████████████████████████████████████████████| 163.79999999999998/163.79999999999998 [06:11<00:00,  2.27s/seconds]\n",
            "100%|██████████████████████████████████████████████| 163.79999999999998/163.79999999999998 [06:06<00:00,  2.24s/seconds]\n"
          ]
        }
      ]
    },
    {
      "cell_type": "code",
      "source": [
        "#average per chunk\n",
        "chunk_size = int(model.samplerate * resolution)\n",
        "# Reshape the tensor into chunks\n",
        "out_reshaped = out.unfold(dimension=1, size=chunk_size, step=chunk_size)\n",
        "# Calculate the mean along the time dimension for each chunk\n",
        "out_reduced = out_reshaped.abs().mean(dim=2)"
      ],
      "metadata": {
        "id": "1Rh5HmnVBHAh"
      },
      "execution_count": 55,
      "outputs": []
    },
    {
      "cell_type": "code",
      "source": [
        "import matplotlib.pyplot as plt\n",
        "\n",
        "plt.plot(out_reduced[0])\n",
        "plt.xlabel(\"Time\")\n",
        "plt.ylabel(\"Volume of drums\")\n",
        "plt.title(\"Volume of drums over Time\")\n",
        "plt.show()\n",
        "\n",
        "plt.plot(out_reduced[1])\n",
        "plt.xlabel(\"Time\")\n",
        "plt.ylabel(\"Volume of bass\")\n",
        "plt.title(\"Volume of bass over Time\")\n",
        "plt.show()\n",
        "\n",
        "plt.plot(out_reduced[2])\n",
        "plt.xlabel(\"Time\")\n",
        "plt.ylabel(\"Volume of vocals\")\n",
        "plt.title(\"Volume of vocals over Time\")\n",
        "plt.show()\n",
        "\n",
        "plt.plot(out_reduced[3])\n",
        "plt.xlabel(\"Time\")\n",
        "plt.ylabel(\"Volume of other\")\n",
        "plt.title(\"Volume of other over Time\")\n",
        "plt.show()\n"
      ],
      "metadata": {
        "id": "qn3LHYuVJk5E"
      },
      "execution_count": null,
      "outputs": []
    }
  ]
}