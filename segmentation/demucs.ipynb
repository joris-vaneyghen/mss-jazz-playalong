{
  "nbformat": 4,
  "nbformat_minor": 0,
  "metadata": {
    "colab": {
      "provenance": [],
      "gpuType": "T4",
      "authorship_tag": "ABX9TyNZjafSb9E72i60GGPd+bCo",
      "include_colab_link": true
    },
    "kernelspec": {
      "name": "python3",
      "display_name": "Python 3"
    },
    "language_info": {
      "name": "python"
    },
    "accelerator": "GPU"
  },
  "cells": [
    {
      "cell_type": "markdown",
      "metadata": {
        "id": "view-in-github",
        "colab_type": "text"
      },
      "source": [
        "<a href=\"https://colab.research.google.com/github/joris-vaneyghen/mss-jazz-playalong/blob/main/segmentation/demucs.ipynb\" target=\"_parent\"><img src=\"https://colab.research.google.com/assets/colab-badge.svg\" alt=\"Open In Colab\"/></a>"
      ]
    },
    {
      "cell_type": "code",
      "execution_count": null,
      "metadata": {
        "id": "X64zOKVQ6LwP"
      },
      "outputs": [],
      "source": [
        "!pip install demucs -q\n",
        "!git clone https://github.com/joris-vaneyghen/mss-jazz-playalong.git -q"
      ]
    },
    {
      "cell_type": "code",
      "source": [
        "#CONFIG\n",
        "input_path = 'mss-jazz-playalong/examples'\n",
        "output_path = 'output'\n",
        "model_name = 'htdemucs_ft'\n",
        "resolution = 0.32 #seconds same as resolution of EfficientAT model"
      ],
      "metadata": {
        "id": "mxfsemzq6ktt"
      },
      "execution_count": null,
      "outputs": []
    },
    {
      "cell_type": "code",
      "source": [
        "import torch\n",
        "from demucs.apply import apply_model\n",
        "from demucs import pretrained\n",
        "import json\n",
        "import os\n",
        "import torchaudio\n",
        "import numpy as np"
      ],
      "metadata": {
        "id": "Cf8YYwfm718q"
      },
      "execution_count": null,
      "outputs": []
    },
    {
      "cell_type": "code",
      "source": [
        "def load_json(dir, mp3_file):\n",
        "    # Replace .mp3 extension with .json\n",
        "    json_file_name = mp3_file.replace('.mp3', '.json')\n",
        "    file_path = os.path.join(dir, json_file_name)\n",
        "\n",
        "    # Check if the .json file exists\n",
        "    if not os.path.exists(file_path):\n",
        "        return {}  # Return an empty dictionary if the .json file doesn't exist\n",
        "\n",
        "    # Load the JSON file if it exists\n",
        "    with open(file_path, 'r') as file:\n",
        "        return json.load(file)\n",
        "\n",
        "def save_json(dir, mp3_file, data):\n",
        "    # Replace .mp3 extension with .json\n",
        "    json_file_name = mp3_file.replace('.mp3', '.json')\n",
        "    file_path = os.path.join(dir, json_file_name)\n",
        "\n",
        "    # Check if directory exists, create it if not\n",
        "    if not os.path.exists(dir):\n",
        "        os.makedirs(dir)\n",
        "\n",
        "    # Save the data to the .json file\n",
        "    with open(file_path, 'w') as file:\n",
        "        json.dump(data, file, indent=4)\n",
        "\n",
        "def iterate_files(dir):\n",
        "    for file_name in os.listdir(dir):\n",
        "        if file_name.endswith('.mp3'):\n",
        "            yield file_name\n",
        "\n",
        "def load_model():\n",
        "  model = pretrained.get_model(model_name)\n",
        "  device = torch.device(\"cuda\" if torch.cuda.is_available() else \"cpu\")\n",
        "  model.to(device)\n",
        "  return model, device\n",
        "\n",
        "def calculate_demucs(model, device, dir, mp3_file):\n",
        "  waveform, sample_rate = torchaudio.load(os.path.join(dir, mp3_file))\n",
        "  if sample_rate != model.samplerate:\n",
        "    waveform = torchaudio.functional.resample(waveform, sample_rate, model.samplerate)\n",
        "\n",
        "  waveform = waveform.to(device)\n",
        "  out = apply_model(model, waveform.unsqueeze(0), progress=True, device=device)\n",
        "  #remove batch dim and average over Left/Right Channel\n",
        "  out = out.squeeze(0).mean(dim=1)\n",
        "  # Reshape the tensor into chunks\n",
        "  chunk_size = int(model.samplerate * resolution)\n",
        "  out_reshaped = out.unfold(dimension=1, size=chunk_size, step=chunk_size)\n",
        "  # Calculate the mean along the time dimension for each chunk\n",
        "  out_reduced = out_reshaped.abs().mean(dim=2)\n",
        "\n",
        "  return out_reduced.cpu().numpy()\n"
      ],
      "metadata": {
        "id": "qn3LHYuVJk5E"
      },
      "execution_count": null,
      "outputs": []
    },
    {
      "cell_type": "code",
      "source": [
        "model, device = load_model()\n",
        "\n",
        "for mp3_file in iterate_files(input_path):\n",
        "  data = load_json(output_path, mp3_file)\n",
        "  if ('demucs' not in data.keys()):\n",
        "    print(mp3_file)\n",
        "    data['demucs'] = calculate_demucs( model, device, input_path, mp3_file).tolist()\n",
        "    save_json(output_path, mp3_file, data)"
      ],
      "metadata": {
        "id": "ib2gsV0ZplNb"
      },
      "execution_count": null,
      "outputs": []
    }
  ]
}