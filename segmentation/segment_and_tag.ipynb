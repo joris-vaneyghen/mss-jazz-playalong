{
  "nbformat": 4,
  "nbformat_minor": 0,
  "metadata": {
    "colab": {
      "provenance": [],
      "authorship_tag": "ABX9TyMtmK5Evzq6Wg4R1pjZtTqL",
      "include_colab_link": true
    },
    "kernelspec": {
      "name": "python3",
      "display_name": "Python 3"
    },
    "language_info": {
      "name": "python"
    }
  },
  "cells": [
    {
      "cell_type": "markdown",
      "metadata": {
        "id": "view-in-github",
        "colab_type": "text"
      },
      "source": [
        "<a href=\"https://colab.research.google.com/github/joris-vaneyghen/mss-jazz-playalong/blob/main/segmentation/segment_and_tag.ipynb\" target=\"_parent\"><img src=\"https://colab.research.google.com/assets/colab-badge.svg\" alt=\"Open In Colab\"/></a>"
      ]
    },
    {
      "cell_type": "code",
      "execution_count": null,
      "metadata": {
        "id": "JUlJ7zHjoOvV"
      },
      "outputs": [],
      "source": [
        "!pip install ruptures -q\n",
        "# download our audio example\n",
        "!git clone https://github.com/joris-vaneyghen/mss-jazz-playalong.git\n",
        "# dowload our audio tagger\n",
        "!git clone https://github.com/fschmid56/EfficientAT"
      ]
    },
    {
      "cell_type": "code",
      "source": [
        "%cd EfficientAT/"
      ],
      "metadata": {
        "id": "UJujlcZNowdv",
        "outputId": "55bb995e-0f2c-4dee-b4ab-e14cea99e61f",
        "colab": {
          "base_uri": "https://localhost:8080/"
        }
      },
      "execution_count": 2,
      "outputs": [
        {
          "output_type": "stream",
          "name": "stdout",
          "text": [
            "/content/EfficientAT\n"
          ]
        }
      ]
    },
    {
      "cell_type": "code",
      "source": [
        "import torch\n",
        "from models.dymn.model import get_model as get_dymn\n",
        "from models.preprocess import AugmentMelSTFT\n",
        "from helpers.utils import NAME_TO_WIDTH\n",
        "\n",
        "import librosa\n",
        "import numpy as np\n",
        "from torch import autocast\n",
        "from contextlib import nullcontext\n",
        "import ruptures as rpt\n",
        "import matplotlib.pyplot as plt\n",
        "import json\n",
        "import os"
      ],
      "metadata": {
        "id": "0TYrq-D3o0Jj"
      },
      "execution_count": 10,
      "outputs": []
    },
    {
      "cell_type": "code",
      "source": [
        "input_path = '../mss-jazz-playalong/examples'\n",
        "output_path = '../mss-jazz-playalong/out/demucs'\n",
        "resolution = 0.32 #seconds same as resolution of EfficientAT model"
      ],
      "metadata": {
        "id": "DTAKGUi1pRU8"
      },
      "execution_count": 6,
      "outputs": []
    },
    {
      "cell_type": "code",
      "source": [
        "def load_mel_and_dymn20_as(device):\n",
        "    \"\"\"\n",
        "    Load the model and mel spectrogram processor for audio tagging.\n",
        "\n",
        "    Args:\n",
        "        device (torch.device): The device to load the model onto (e.g., 'cuda' or 'cpu').\n",
        "\n",
        "    Returns:\n",
        "        mel (AugmentMelSTFT): Mel spectrogram processor.\n",
        "        model (torch.nn.Module): Loaded model.\n",
        "    \"\"\"\n",
        "    sample_rate=32000\n",
        "    window_size=800\n",
        "    hop_size=320\n",
        "    n_mels=128\n",
        "    strides=[2, 2, 2, 2]\n",
        "    model_name = 'dymn20_as'\n",
        "\n",
        "    model = get_dymn(width_mult=NAME_TO_WIDTH(model_name), pretrained_name=model_name, strides=strides)\n",
        "\n",
        "    # Send model to the specified device\n",
        "    model.to(device)\n",
        "    model.eval()\n",
        "\n",
        "    # Create a mel spectrogram processor (preprocessor)\n",
        "    mel = AugmentMelSTFT(n_mels=n_mels, sr=sample_rate, win_length=window_size, hopsize=hop_size)\n",
        "    mel.to(device)\n",
        "    mel.eval()\n",
        "\n",
        "    return mel, model\n",
        "\n",
        "\n",
        "def load_json(dir, mp3_file):\n",
        "    # Replace .mp3 extension with .json\n",
        "    json_file_name = mp3_file.replace('.mp3', '.json')\n",
        "    file_path = os.path.join(dir, json_file_name)\n",
        "\n",
        "    # Check if the .json file exists\n",
        "    if not os.path.exists(file_path):\n",
        "        return {}  # Return an empty dictionary if the .json file doesn't exist\n",
        "\n",
        "    # Load the JSON file if it exists\n",
        "    with open(file_path, 'r') as file:\n",
        "        return json.load(file)\n",
        "\n",
        "def save_json(dir, mp3_file, data):\n",
        "    # Replace .mp3 extension with .json\n",
        "    json_file_name = mp3_file.replace('.mp3', '.json')\n",
        "    file_path = os.path.join(dir, json_file_name)\n",
        "\n",
        "    # Check if directory exists, create it if not\n",
        "    if not os.path.exists(dir):\n",
        "        os.makedirs(dir)\n",
        "\n",
        "    # Save the data to the .json file\n",
        "    with open(file_path, 'w') as file:\n",
        "        json.dump(data, file, indent=4)\n",
        "\n",
        "def iterate_files(dir):\n",
        "    for file_name in os.listdir(dir):\n",
        "        if file_name.endswith('.mp3'):\n",
        "            yield file_name"
      ],
      "metadata": {
        "id": "GvQlUQpNo2Xp"
      },
      "execution_count": 8,
      "outputs": []
    },
    {
      "cell_type": "code",
      "source": [
        "for mp3_file in iterate_files(input_path):\n",
        "  data = load_json(output_path, mp3_file)\n",
        "  if ('demucs' in data.keys()):\n",
        "    print(mp3_file)\n",
        "    demucs = data['demucs']\n",
        "    # save_json(output_path, mp3_file, data)"
      ],
      "metadata": {
        "id": "qnD8FJzup121",
        "outputId": "12c0d505-e80c-4bb3-8ad6-074c93c78d42",
        "colab": {
          "base_uri": "https://localhost:8080/"
        }
      },
      "execution_count": 11,
      "outputs": [
        {
          "output_type": "stream",
          "name": "stdout",
          "text": [
            "Jazz Standards Medley.mp3\n",
            "Sweet Dreams_Single Ladies.mp3\n",
            "duo.mp3\n"
          ]
        }
      ]
    }
  ]
}