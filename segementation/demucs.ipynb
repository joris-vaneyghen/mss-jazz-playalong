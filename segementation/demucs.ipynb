{
  "nbformat": 4,
  "nbformat_minor": 0,
  "metadata": {
    "colab": {
      "provenance": [],
      "authorship_tag": "ABX9TyPtw0TS1UK6kp1NcB9py4sf",
      "include_colab_link": true
    },
    "kernelspec": {
      "name": "python3",
      "display_name": "Python 3"
    },
    "language_info": {
      "name": "python"
    }
  },
  "cells": [
    {
      "cell_type": "markdown",
      "metadata": {
        "id": "view-in-github",
        "colab_type": "text"
      },
      "source": [
        "<a href=\"https://colab.research.google.com/github/joris-vaneyghen/mss-jazz-playalong/blob/main/segementation/demucs.ipynb\" target=\"_parent\"><img src=\"https://colab.research.google.com/assets/colab-badge.svg\" alt=\"Open In Colab\"/></a>"
      ]
    },
    {
      "cell_type": "code",
      "execution_count": null,
      "metadata": {
        "id": "X64zOKVQ6LwP"
      },
      "outputs": [],
      "source": [
        "!pip install demucs -q\n",
        "!git clone https://github.com/joris-vaneyghen/mss-jazz-playalong.git -q"
      ]
    },
    {
      "cell_type": "code",
      "source": [],
      "metadata": {
        "id": "QH22dy4l6wUR"
      },
      "execution_count": null,
      "outputs": []
    },
    {
      "cell_type": "code",
      "source": [
        "#Configuration\n",
        "input_path = 'mss-jazz-playalong/examples'\n",
        "output_path = 'output'\n",
        "model_name = 'htdemucs_ft'\n",
        "resolution = 0.32 #seconds same as resolution of EfficientAT model"
      ],
      "metadata": {
        "id": "mxfsemzq6ktt"
      },
      "execution_count": null,
      "outputs": []
    },
    {
      "cell_type": "code",
      "source": [
        "import torch\n",
        "from demucs.apply import apply_model\n",
        "from demucs import pretrained\n",
        "\n",
        "model = pretrained.get_model(model_name)"
      ],
      "metadata": {
        "id": "Cf8YYwfm718q"
      },
      "execution_count": null,
      "outputs": []
    },
    {
      "cell_type": "code",
      "source": [
        "device = torch.device(\"cuda\" if torch.cuda.is_available() else \"cpu\")\n",
        "x = torch.randn(1, 2, 44100 * 10)  # ten seconds of white noise for the demo\n",
        "model.to(device)\n",
        "x = x.to(device)\n",
        "out = apply_model(model, x, progress=True, device=device)"
      ],
      "metadata": {
        "id": "CqiA7bwG8BrW"
      },
      "execution_count": null,
      "outputs": []
    },
    {
      "cell_type": "code",
      "source": [
        "#average per chunk\n",
        "chunk_size = int(model.samplerate * resolution)\n",
        "# Reshape the tensor into chunks\n",
        "out_reshaped = out.unfold(dimension=1, size=chunk_size, step=chunk_size)\n",
        "# Calculate the mean along the time dimension for each chunk\n",
        "out_reduced = out_reshaped.mean(dim=2)"
      ],
      "metadata": {
        "id": "1Rh5HmnVBHAh"
      },
      "execution_count": null,
      "outputs": []
    },
    {
      "cell_type": "code",
      "source": [],
      "metadata": {
        "id": "ScLIsOBTFNAm"
      },
      "execution_count": null,
      "outputs": []
    }
  ]
}